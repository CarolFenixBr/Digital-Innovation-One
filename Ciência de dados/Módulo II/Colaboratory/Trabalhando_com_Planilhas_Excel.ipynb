{
  "nbformat": 4,
  "nbformat_minor": 0,
  "metadata": {
    "colab": {
      "provenance": [],
      "authorship_tag": "ABX9TyNNFw3t3haGqiWCEhUuQi45",
      "include_colab_link": true
    },
    "kernelspec": {
      "name": "python3",
      "display_name": "Python 3"
    },
    "language_info": {
      "name": "python"
    }
  },
  "cells": [
    {
      "cell_type": "markdown",
      "metadata": {
        "id": "view-in-github",
        "colab_type": "text"
      },
      "source": [
        "<a href=\"https://colab.research.google.com/github/CarolFenixBr/Digital-Innovation-One/blob/main/Trabalhando_com_Planilhas_Excel.ipynb\" target=\"_parent\"><img src=\"https://colab.research.google.com/assets/colab-badge.svg\" alt=\"Open In Colab\"/></a>"
      ]
    },
    {
      "cell_type": "markdown",
      "source": [
        "# **Trabalhando com Planilhas do Excel** #"
      ],
      "metadata": {
        "id": "47vt72DvadO3"
      }
    },
    {
      "cell_type": "code",
      "source": [
        "#Importando a biblioteca\n",
        "import pandas as pd\n"
      ],
      "metadata": {
        "id": "zs4VTVmUal9C"
      },
      "execution_count": null,
      "outputs": []
    },
    {
      "cell_type": "code",
      "source": [
        "#Leitura dos arquivos\n",
        "df1 = pd.read_excel(\" \")\n",
        "df2 = pd.read_excel(\" \")"
      ],
      "metadata": {
        "id": "7d9OJV_qasdj"
      },
      "execution_count": null,
      "outputs": []
    },
    {
      "cell_type": "code",
      "source": [
        "#juntando todos os arquivos\n",
        "df = pd.concat([df1,df2])"
      ],
      "metadata": {
        "id": "UPKmr7bYblfU"
      },
      "execution_count": null,
      "outputs": []
    },
    {
      "cell_type": "code",
      "source": [
        "#Exibindo as 5 primeiras linhas\n",
        "df.head"
      ],
      "metadata": {
        "id": "2C4Vr0kQb9IZ"
      },
      "execution_count": null,
      "outputs": []
    },
    {
      "cell_type": "code",
      "source": [
        "#exibindo as 5 ultimas linhas\n",
        "df.tail()"
      ],
      "metadata": {
        "id": "-l_DiAB_cIh1"
      },
      "execution_count": null,
      "outputs": []
    },
    {
      "cell_type": "code",
      "source": [
        "#verificando o tipo de dados de cada coluna\n",
        "df.dtypes"
      ],
      "metadata": {
        "id": "O4SXtQaqeajy"
      },
      "execution_count": null,
      "outputs": []
    },
    {
      "cell_type": "code",
      "source": [
        "#Alterando o tipo de dado da coluna\n",
        "df[\" \"] = df[\" \"].astype(\" \")"
      ],
      "metadata": {
        "id": "_18O7iNkejWs"
      },
      "execution_count": null,
      "outputs": []
    },
    {
      "cell_type": "markdown",
      "source": [
        "### **Tratando valores faltantes** "
      ],
      "metadata": {
        "id": "LCw1i5mhgDEB"
      }
    },
    {
      "cell_type": "code",
      "source": [
        "#Consultando linhas com valores faltantes\n",
        "df.isnull().sum()"
      ],
      "metadata": {
        "id": "BvrOxN7AgHvS"
      },
      "execution_count": null,
      "outputs": []
    },
    {
      "cell_type": "code",
      "source": [
        "#Substituindo os valores nulos média\n",
        "df[\" \"].fillna(df[\" \"].mean(),inplace=True)"
      ],
      "metadata": {
        "id": "4mAdmOxZgbhm"
      },
      "execution_count": null,
      "outputs": []
    },
    {
      "cell_type": "code",
      "source": [
        "#Substituindo os valores nulos por zero\n",
        "df[\" \"].fillna(0, inplace=True)"
      ],
      "metadata": {
        "id": "XGARW9jHgtSl"
      },
      "execution_count": null,
      "outputs": []
    },
    {
      "cell_type": "code",
      "source": [
        "#Apagando as linhas com valores nulos\n",
        "df.dropna(inplace=True)"
      ],
      "metadata": {
        "id": "wnX7RzzJg2CP"
      },
      "execution_count": null,
      "outputs": []
    },
    {
      "cell_type": "code",
      "source": [
        "#Apagando as linhas com valores nulos com base apenas em 1 coluna\n",
        "df.dropna(subset=[\" \"], inplace=True)"
      ],
      "metadata": {
        "id": "CrUYqjvOg7hx"
      },
      "execution_count": null,
      "outputs": []
    },
    {
      "cell_type": "code",
      "source": [
        "#Removendo linhas que estejam com valores faltantes em todas as colunas\n",
        "df.drpna(how=\"all\", inplace=True)"
      ],
      "metadata": {
        "id": "SRE95q4HhS-K"
      },
      "execution_count": null,
      "outputs": []
    },
    {
      "cell_type": "markdown",
      "source": [
        "### **Criando colunas novas**"
      ],
      "metadata": {
        "id": "VB1dc-wHhfLc"
      }
    },
    {
      "cell_type": "code",
      "source": [
        "#Criando a coluna chamada x\n",
        "df[\"x \"] = df[\" y\"].mul(df[\"Qtde\"])"
      ],
      "metadata": {
        "id": "96yPmfijhjJ9"
      },
      "execution_count": null,
      "outputs": []
    },
    {
      "cell_type": "code",
      "source": [
        "df.head()"
      ],
      "metadata": {
        "id": "y53zGhzRlQWD"
      },
      "execution_count": null,
      "outputs": []
    },
    {
      "cell_type": "code",
      "source": [
        "df[\"x/y\"] = df[\"x\"]/ df[\"y\"]"
      ],
      "metadata": {
        "id": "_kkfag6slT3B"
      },
      "execution_count": null,
      "outputs": []
    },
    {
      "cell_type": "code",
      "source": [
        "#retornando a maior x\n",
        "df[\"x\"].max()"
      ],
      "metadata": {
        "id": "DEJZ7rlDlZf-"
      },
      "execution_count": null,
      "outputs": []
    },
    {
      "cell_type": "code",
      "source": [
        "#retornando a menor x\n",
        "df[\"x\"].min()"
      ],
      "metadata": {
        "id": "Zl8UVecWlfLq"
      },
      "execution_count": null,
      "outputs": []
    },
    {
      "cell_type": "code",
      "source": [
        "#nlargest\n",
        "df.nlargest(3,\"y\")"
      ],
      "metadata": {
        "id": "5u9ij_nNlqIL"
      },
      "execution_count": null,
      "outputs": []
    },
    {
      "cell_type": "code",
      "source": [
        "#nsmallest\n",
        "df.nsmallest(3,\"y\")"
      ],
      "metadata": {
        "id": "lAeCeR7Al6pK"
      },
      "execution_count": null,
      "outputs": []
    },
    {
      "cell_type": "code",
      "source": [
        "#Agrupamento por \"cidade\"\n",
        "df.groupby(\"Cidade\")[\"y\"]"
      ],
      "metadata": {
        "id": "VUIl5agbmFCY"
      },
      "execution_count": null,
      "outputs": []
    },
    {
      "cell_type": "code",
      "source": [
        "#Ordenando o conjunto de dados\n",
        "df.sort_values(\"y\", ascending=False).head(10)"
      ],
      "metadata": {
        "id": "7BonzSg1mT9h"
      },
      "execution_count": null,
      "outputs": []
    },
    {
      "cell_type": "markdown",
      "source": [
        "## **Trabalhando com datas**"
      ],
      "metadata": {
        "id": "mfrTJiTdmman"
      }
    },
    {
      "cell_type": "code",
      "source": [
        "#transformando a coluna de data em tipo inteiro\n",
        "df[\"data\"] = df[\"Data\"].astype(\"int64\")"
      ],
      "metadata": {
        "id": "6iZ3WWf0mqdh"
      },
      "execution_count": null,
      "outputs": []
    },
    {
      "cell_type": "code",
      "source": [
        "#Transformando coluna de data em data\n",
        "df[\"Data\"] = pd.to_datetime(df[\"Data\"])"
      ],
      "metadata": {
        "id": "PxtLhTI0vcpm"
      },
      "execution_count": null,
      "outputs": []
    },
    {
      "cell_type": "code",
      "source": [
        "df.types"
      ],
      "metadata": {
        "id": "Qpna56N4vlNW"
      },
      "execution_count": null,
      "outputs": []
    },
    {
      "cell_type": "code",
      "source": [
        "#Agrupamento por ano\n",
        "df.groupby(df[\"Data\"].dt.year)[\"Receita\"].sum()"
      ],
      "metadata": {
        "id": "sy9OjoZIvmpW"
      },
      "execution_count": null,
      "outputs": []
    },
    {
      "cell_type": "code",
      "source": [
        "#Criando uma nova coluna com o ano\n",
        "df[\"Ano_Venda\"] = df[\"Data\"].dt.year"
      ],
      "metadata": {
        "id": "6ajDR2tTvxe2"
      },
      "execution_count": null,
      "outputs": []
    },
    {
      "cell_type": "code",
      "source": [
        "#Extraindo o Mês e o dia\n",
        "df[\"mes_venda\"], df[\"dia_venda\"] = (df[\"Data\"].dt.month, df[\"Data\"],dt.day)"
      ],
      "metadata": {
        "id": "-24bOgNov_aG"
      },
      "execution_count": null,
      "outputs": []
    },
    {
      "cell_type": "code",
      "source": [
        "df.sample(5)"
      ],
      "metadata": {
        "id": "ji4cjkYTwQ7d"
      },
      "execution_count": null,
      "outputs": []
    },
    {
      "cell_type": "code",
      "source": [
        "#Retornando a data mais antiga\n",
        "df[\"Data\"].min()"
      ],
      "metadata": {
        "id": "_oSZiaAXwTRF"
      },
      "execution_count": null,
      "outputs": []
    },
    {
      "cell_type": "code",
      "source": [
        "#Calculando a diferença de dia\n",
        "df[\"diferenca_dias\"] =  df[\"Data\"] - df[\"Data\"].min()"
      ],
      "metadata": {
        "id": "aiRDopkmwXs1"
      },
      "execution_count": null,
      "outputs": []
    },
    {
      "cell_type": "code",
      "source": [
        "#Filtrando as vendas de ex 2020 do mês de abril\n",
        "vendas_abril_20 = df.loc[(df[\"Data\"].dt.year == 2020)& (df[\"Data\"].dt.month ==4)] "
      ],
      "metadata": {
        "id": "BqpW8jj6wnXu"
      },
      "execution_count": null,
      "outputs": []
    },
    {
      "cell_type": "code",
      "source": [
        "vendas_abril_20"
      ],
      "metadata": {
        "id": "kYknxLdJxGas"
      },
      "execution_count": null,
      "outputs": []
    }
  ]
}
